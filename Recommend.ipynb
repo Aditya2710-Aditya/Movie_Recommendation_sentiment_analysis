{
 "cells": [
  {
   "cell_type": "code",
   "execution_count": 1,
   "id": "6f36e6a1",
   "metadata": {},
   "outputs": [],
   "source": [
    "import numpy as np\n",
    "import pandas as pd\n",
    "from sklearn.feature_extraction.text import CountVectorizer\n",
    "from sklearn.metrics.pairwise import cosine_similarity\n",
    "import pickle\n"
   ]
  },
  {
   "cell_type": "code",
   "execution_count": 2,
   "id": "7e3ad6b0",
   "metadata": {
    "scrolled": true
   },
   "outputs": [
    {
     "data": {
      "text/html": [
       "<div>\n",
       "<style scoped>\n",
       "    .dataframe tbody tr th:only-of-type {\n",
       "        vertical-align: middle;\n",
       "    }\n",
       "\n",
       "    .dataframe tbody tr th {\n",
       "        vertical-align: top;\n",
       "    }\n",
       "\n",
       "    .dataframe thead th {\n",
       "        text-align: right;\n",
       "    }\n",
       "</style>\n",
       "<table border=\"1\" class=\"dataframe\">\n",
       "  <thead>\n",
       "    <tr style=\"text-align: right;\">\n",
       "      <th></th>\n",
       "      <th>director_name</th>\n",
       "      <th>actor_1_name</th>\n",
       "      <th>actor_2_name</th>\n",
       "      <th>actor_3_name</th>\n",
       "      <th>genres</th>\n",
       "      <th>movie_title</th>\n",
       "      <th>movie_id</th>\n",
       "      <th>year</th>\n",
       "      <th>revenue</th>\n",
       "      <th>comb</th>\n",
       "    </tr>\n",
       "  </thead>\n",
       "  <tbody>\n",
       "    <tr>\n",
       "      <th>0</th>\n",
       "      <td>Greta Gerwig</td>\n",
       "      <td>Margot Robbie</td>\n",
       "      <td>Ryan Gosling</td>\n",
       "      <td>America Ferrera</td>\n",
       "      <td>Comedy Adventure</td>\n",
       "      <td>Barbie</td>\n",
       "      <td>346698.0</td>\n",
       "      <td>2023.0</td>\n",
       "      <td>1.445638e+09</td>\n",
       "      <td>Margot Robbie Ryan Gosling America Ferrera Gre...</td>\n",
       "    </tr>\n",
       "    <tr>\n",
       "      <th>1</th>\n",
       "      <td>Aaron Horvath, Michael Jelenic</td>\n",
       "      <td>Chris Pratt</td>\n",
       "      <td>Anya Taylor-Joy</td>\n",
       "      <td>Charlie Day</td>\n",
       "      <td>Animation Family Adventure Fantasy Comedy</td>\n",
       "      <td>The Super Mario Bros. Movie</td>\n",
       "      <td>502356.0</td>\n",
       "      <td>2023.0</td>\n",
       "      <td>1.362000e+09</td>\n",
       "      <td>Chris Pratt Anya Taylor-Joy Charlie Day Aaron ...</td>\n",
       "    </tr>\n",
       "    <tr>\n",
       "      <th>2</th>\n",
       "      <td>Christopher Nolan</td>\n",
       "      <td>Cillian Murphy</td>\n",
       "      <td>Emily Blunt</td>\n",
       "      <td>Matt Damon</td>\n",
       "      <td>Drama History</td>\n",
       "      <td>Oppenheimer</td>\n",
       "      <td>872585.0</td>\n",
       "      <td>2023.0</td>\n",
       "      <td>9.520000e+08</td>\n",
       "      <td>Cillian Murphy Emily Blunt Matt Damon Christop...</td>\n",
       "    </tr>\n",
       "    <tr>\n",
       "      <th>3</th>\n",
       "      <td>James Gunn</td>\n",
       "      <td>Chris Pratt</td>\n",
       "      <td>Zoe Saldaña</td>\n",
       "      <td>Dave Bautista</td>\n",
       "      <td>Sci-Fi Adventure Action</td>\n",
       "      <td>Guardians of the Galaxy Vol. 3</td>\n",
       "      <td>447365.0</td>\n",
       "      <td>2023.0</td>\n",
       "      <td>8.456000e+08</td>\n",
       "      <td>Chris Pratt Zoe Saldaña Dave Bautista James Gu...</td>\n",
       "    </tr>\n",
       "    <tr>\n",
       "      <th>4</th>\n",
       "      <td>Louis Leterrier</td>\n",
       "      <td>Vin Diesel</td>\n",
       "      <td>Michelle Rodriguez</td>\n",
       "      <td>Tyrese Gibson</td>\n",
       "      <td>Action Crime Thriller</td>\n",
       "      <td>Fast X</td>\n",
       "      <td>385687.0</td>\n",
       "      <td>2023.0</td>\n",
       "      <td>7.047097e+08</td>\n",
       "      <td>Vin Diesel Michelle Rodriguez Tyrese Gibson Lo...</td>\n",
       "    </tr>\n",
       "    <tr>\n",
       "      <th>...</th>\n",
       "      <td>...</td>\n",
       "      <td>...</td>\n",
       "      <td>...</td>\n",
       "      <td>...</td>\n",
       "      <td>...</td>\n",
       "      <td>...</td>\n",
       "      <td>...</td>\n",
       "      <td>...</td>\n",
       "      <td>...</td>\n",
       "      <td>...</td>\n",
       "    </tr>\n",
       "    <tr>\n",
       "      <th>3389</th>\n",
       "      <td>Alan Smithee Michael Gottlieb</td>\n",
       "      <td>Cheech Marin</td>\n",
       "      <td>Emma Samms</td>\n",
       "      <td>Gary McCormick</td>\n",
       "      <td>Comedy Romance</td>\n",
       "      <td>Shrimp on the Barbie</td>\n",
       "      <td>34564.0</td>\n",
       "      <td>1990.0</td>\n",
       "      <td>4.589960e+05</td>\n",
       "      <td>Cheech Marin Emma Samms Gary McCormick Alan Sm...</td>\n",
       "    </tr>\n",
       "    <tr>\n",
       "      <th>3390</th>\n",
       "      <td>Frank Henenlotter</td>\n",
       "      <td>James Lorinz</td>\n",
       "      <td>Patty Mullen</td>\n",
       "      <td>Joanne Ritchie</td>\n",
       "      <td>Comedy Horror Sci-Fi</td>\n",
       "      <td>Frankenhooker</td>\n",
       "      <td>27274.0</td>\n",
       "      <td>1990.0</td>\n",
       "      <td>2.050680e+05</td>\n",
       "      <td>James Lorinz Patty Mullen Joanne Ritchie Frank...</td>\n",
       "    </tr>\n",
       "    <tr>\n",
       "      <th>3391</th>\n",
       "      <td>Wong Kar-wai</td>\n",
       "      <td>Andy Lau</td>\n",
       "      <td>Leslie Cheung</td>\n",
       "      <td>Maggie Cheung</td>\n",
       "      <td>Crime Drama Romance</td>\n",
       "      <td>Days of Being Wild</td>\n",
       "      <td>18311.0</td>\n",
       "      <td>1990.0</td>\n",
       "      <td>1.418640e+05</td>\n",
       "      <td>Andy Lau Leslie Cheung Maggie Cheung Wong Kar-...</td>\n",
       "    </tr>\n",
       "    <tr>\n",
       "      <th>3392</th>\n",
       "      <td>Joe Roth</td>\n",
       "      <td>Patrick Dempsey</td>\n",
       "      <td>Arye Gross</td>\n",
       "      <td>Daniel Stern</td>\n",
       "      <td>Comedy Drama</td>\n",
       "      <td>Coupe de Ville</td>\n",
       "      <td>39062.0</td>\n",
       "      <td>1990.0</td>\n",
       "      <td>7.150000e+02</td>\n",
       "      <td>Patrick Dempsey Arye Gross Daniel Stern Joe Ro...</td>\n",
       "    </tr>\n",
       "    <tr>\n",
       "      <th>3393</th>\n",
       "      <td>Mark Griffiths</td>\n",
       "      <td>Jared Rushton</td>\n",
       "      <td>Ned Beatty</td>\n",
       "      <td>Pamela Sue Martin</td>\n",
       "      <td>Drama Family</td>\n",
       "      <td>A Cry in the Wild</td>\n",
       "      <td>25373.0</td>\n",
       "      <td>1990.0</td>\n",
       "      <td>1.000000e+00</td>\n",
       "      <td>Jared Rushton Ned Beatty Pamela Sue Martin Mar...</td>\n",
       "    </tr>\n",
       "  </tbody>\n",
       "</table>\n",
       "<p>3394 rows × 10 columns</p>\n",
       "</div>"
      ],
      "text/plain": [
       "                       director_name     actor_1_name        actor_2_name  \\\n",
       "0                       Greta Gerwig    Margot Robbie        Ryan Gosling   \n",
       "1     Aaron Horvath, Michael Jelenic      Chris Pratt     Anya Taylor-Joy   \n",
       "2                  Christopher Nolan   Cillian Murphy         Emily Blunt   \n",
       "3                         James Gunn      Chris Pratt         Zoe Saldaña   \n",
       "4                    Louis Leterrier       Vin Diesel  Michelle Rodriguez   \n",
       "...                              ...              ...                 ...   \n",
       "3389   Alan Smithee Michael Gottlieb     Cheech Marin          Emma Samms   \n",
       "3390               Frank Henenlotter     James Lorinz        Patty Mullen   \n",
       "3391                    Wong Kar-wai         Andy Lau       Leslie Cheung   \n",
       "3392                        Joe Roth  Patrick Dempsey          Arye Gross   \n",
       "3393                  Mark Griffiths    Jared Rushton          Ned Beatty   \n",
       "\n",
       "           actor_3_name                                     genres  \\\n",
       "0       America Ferrera                           Comedy Adventure   \n",
       "1           Charlie Day  Animation Family Adventure Fantasy Comedy   \n",
       "2            Matt Damon                              Drama History   \n",
       "3         Dave Bautista                    Sci-Fi Adventure Action   \n",
       "4         Tyrese Gibson                      Action Crime Thriller   \n",
       "...                 ...                                        ...   \n",
       "3389     Gary McCormick                             Comedy Romance   \n",
       "3390     Joanne Ritchie                       Comedy Horror Sci-Fi   \n",
       "3391      Maggie Cheung                        Crime Drama Romance   \n",
       "3392       Daniel Stern                               Comedy Drama   \n",
       "3393  Pamela Sue Martin                               Drama Family   \n",
       "\n",
       "                         movie_title  movie_id    year       revenue  \\\n",
       "0                             Barbie  346698.0  2023.0  1.445638e+09   \n",
       "1        The Super Mario Bros. Movie  502356.0  2023.0  1.362000e+09   \n",
       "2                        Oppenheimer  872585.0  2023.0  9.520000e+08   \n",
       "3     Guardians of the Galaxy Vol. 3  447365.0  2023.0  8.456000e+08   \n",
       "4                             Fast X  385687.0  2023.0  7.047097e+08   \n",
       "...                              ...       ...     ...           ...   \n",
       "3389            Shrimp on the Barbie   34564.0  1990.0  4.589960e+05   \n",
       "3390                   Frankenhooker   27274.0  1990.0  2.050680e+05   \n",
       "3391              Days of Being Wild   18311.0  1990.0  1.418640e+05   \n",
       "3392                  Coupe de Ville   39062.0  1990.0  7.150000e+02   \n",
       "3393               A Cry in the Wild   25373.0  1990.0  1.000000e+00   \n",
       "\n",
       "                                                   comb  \n",
       "0     Margot Robbie Ryan Gosling America Ferrera Gre...  \n",
       "1     Chris Pratt Anya Taylor-Joy Charlie Day Aaron ...  \n",
       "2     Cillian Murphy Emily Blunt Matt Damon Christop...  \n",
       "3     Chris Pratt Zoe Saldaña Dave Bautista James Gu...  \n",
       "4     Vin Diesel Michelle Rodriguez Tyrese Gibson Lo...  \n",
       "...                                                 ...  \n",
       "3389  Cheech Marin Emma Samms Gary McCormick Alan Sm...  \n",
       "3390  James Lorinz Patty Mullen Joanne Ritchie Frank...  \n",
       "3391  Andy Lau Leslie Cheung Maggie Cheung Wong Kar-...  \n",
       "3392  Patrick Dempsey Arye Gross Daniel Stern Joe Ro...  \n",
       "3393  Jared Rushton Ned Beatty Pamela Sue Martin Mar...  \n",
       "\n",
       "[3394 rows x 10 columns]"
      ]
     },
     "execution_count": 2,
     "metadata": {},
     "output_type": "execute_result"
    }
   ],
   "source": [
    "new_df = pd.read_csv('Final_movie_data.csv')\n",
    "new_df"
   ]
  },
  {
   "cell_type": "code",
   "execution_count": 3,
   "id": "5e7afca6",
   "metadata": {},
   "outputs": [
    {
     "data": {
      "text/plain": [
       "Index(['director_name', 'actor_1_name', 'actor_2_name', 'actor_3_name',\n",
       "       'genres', 'movie_title', 'movie_id', 'year', 'revenue', 'comb'],\n",
       "      dtype='object')"
      ]
     },
     "execution_count": 3,
     "metadata": {},
     "output_type": "execute_result"
    }
   ],
   "source": [
    "new_df.columns"
   ]
  },
  {
   "cell_type": "code",
   "execution_count": 4,
   "id": "635dc36a",
   "metadata": {},
   "outputs": [],
   "source": [
    "cv = CountVectorizer()\n",
    "vectors = cv.fit_transform(new_df['comb'])"
   ]
  },
  {
   "cell_type": "code",
   "execution_count": 5,
   "id": "9828f078",
   "metadata": {},
   "outputs": [],
   "source": [
    "similarity = cosine_similarity(vectors)"
   ]
  },
  {
   "cell_type": "code",
   "execution_count": 6,
   "id": "802f3538",
   "metadata": {},
   "outputs": [
    {
     "data": {
      "text/plain": [
       "(3394,)"
      ]
     },
     "execution_count": 6,
     "metadata": {},
     "output_type": "execute_result"
    }
   ],
   "source": [
    "similarity[1].shape"
   ]
  },
  {
   "cell_type": "code",
   "execution_count": 7,
   "id": "3f23831b",
   "metadata": {},
   "outputs": [
    {
     "data": {
      "text/plain": [
       "[(219, 0.38138503569823695),\n",
       " (1597, 0.3651483716701108),\n",
       " (143, 0.30000000000000004),\n",
       " (666, 0.30000000000000004),\n",
       " (679, 0.30000000000000004),\n",
       " (721, 0.30000000000000004),\n",
       " (848, 0.30000000000000004),\n",
       " (1896, 0.30000000000000004)]"
      ]
     },
     "execution_count": 7,
     "metadata": {},
     "output_type": "execute_result"
    }
   ],
   "source": [
    "sorted(list(enumerate(similarity[0])),reverse=True, key=lambda x: x[1])[1:9]"
   ]
  },
  {
   "cell_type": "code",
   "execution_count": 8,
   "id": "9adeba16",
   "metadata": {},
   "outputs": [],
   "source": [
    "def recommend(movie):\n",
    "    index = new_df[new_df['movie_title'] == movie].index[0]\n",
    "    distances = similarity[index]\n",
    "    movie_list = sorted(list(enumerate(distances)),reverse=True,key = lambda x: x[1])[1:10]\n",
    "    for i in movie_list:\n",
    "        print(new_df.iloc[i[0]].movie_title)"
   ]
  },
  {
   "cell_type": "code",
   "execution_count": 9,
   "id": "cf0fd9e4",
   "metadata": {},
   "outputs": [
    {
     "data": {
      "text/plain": [
       "'The Super Mario Bros. Movie'"
      ]
     },
     "execution_count": 9,
     "metadata": {},
     "output_type": "execute_result"
    }
   ],
   "source": [
    "new_df.iloc[1].movie_title"
   ]
  },
  {
   "cell_type": "code",
   "execution_count": 10,
   "id": "5bb3a9a9",
   "metadata": {},
   "outputs": [
    {
     "name": "stdout",
     "output_type": "stream",
     "text": [
      "Harry Potter and the Philosopher's Stone\n",
      "Harry Potter and the Deathly Hallows: Part 2\n",
      "Harry Potter and the Deathly Hallows: Part 1\n",
      "Harry Potter and the Half-Blood Prince\n",
      "Harry Potter and the Goblet of Fire\n",
      "Harry Potter and the Prisoner of Azkaban\n",
      "Harry Potter and the Order of the Phoenix\n",
      "Percy Jackson & the Olympians: The Lightning Thief\n",
      "Home Alone\n"
     ]
    }
   ],
   "source": [
    "recommend(\"Harry Potter and the Chamber of Secrets\")"
   ]
  },
  {
   "cell_type": "code",
   "execution_count": 11,
   "id": "d294fe0c",
   "metadata": {},
   "outputs": [],
   "source": [
    "pickle.dump(new_df, open('movies.pkl','wb'))"
   ]
  },
  {
   "cell_type": "code",
   "execution_count": 13,
   "id": "1bd36e0f",
   "metadata": {},
   "outputs": [],
   "source": [
    "# pickle.dump(similarity, open('similarity.pkl','wb'))"
   ]
  },
  {
   "cell_type": "code",
   "execution_count": null,
   "id": "49f5b6d6",
   "metadata": {},
   "outputs": [],
   "source": []
  }
 ],
 "metadata": {
  "kernelspec": {
   "display_name": "Python 3 (ipykernel)",
   "language": "python",
   "name": "python3"
  },
  "language_info": {
   "codemirror_mode": {
    "name": "ipython",
    "version": 3
   },
   "file_extension": ".py",
   "mimetype": "text/x-python",
   "name": "python",
   "nbconvert_exporter": "python",
   "pygments_lexer": "ipython3",
   "version": "3.9.12"
  }
 },
 "nbformat": 4,
 "nbformat_minor": 5
}
